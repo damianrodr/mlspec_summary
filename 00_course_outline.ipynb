{
 "cells": [
  {
   "attachments": {},
   "cell_type": "markdown",
   "metadata": {},
   "source": [
    "# Machine Learning. Summary\n",
    "\n",
    "1. Unsupervised learning\n",
    "    1. Clustering: k-means\n",
    "    2. Anomaly detection\n",
    "2. Recomender systems\n",
    "    1. Collaborative filtering\n",
    "    2. Content-based filtering\n",
    "    3. Principal Component Analysis (PCA)\n",
    "3. Reinforcement learning\n"
   ]
  },
  {
   "cell_type": "markdown",
   "metadata": {},
   "source": []
  }
 ],
 "metadata": {
  "kernelspec": {
   "display_name": "Python 3",
   "language": "python",
   "name": "python3"
  },
  "language_info": {
   "name": "python",
   "version": "3.8.10"
  },
  "orig_nbformat": 4,
  "vscode": {
   "interpreter": {
    "hash": "916dbcbb3f70747c44a77c7bcd40155683ae19c65e1c03b4aa3499c5328201f1"
   }
  }
 },
 "nbformat": 4,
 "nbformat_minor": 2
}
